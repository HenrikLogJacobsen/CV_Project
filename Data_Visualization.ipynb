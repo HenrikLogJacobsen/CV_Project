{
 "cells": [
  {
   "cell_type": "markdown",
   "metadata": {},
   "source": [
    "# Track 3: Object Detection with LiDAR Data from Trondheim"
   ]
  },
  {
   "cell_type": "markdown",
   "metadata": {},
   "source": [
    "## Imports"
   ]
  },
  {
   "cell_type": "code",
   "execution_count": 21,
   "metadata": {},
   "outputs": [],
   "source": [
    "import os\n",
    "import pandas as pd\n",
    "import numpy as np\n",
    "from helpers import *\n",
    "import matplotlib.pyplot as plt\n"
   ]
  },
  {
   "cell_type": "markdown",
   "metadata": {},
   "source": [
    "### Loading in the dataset (Cybele)"
   ]
  },
  {
   "cell_type": "code",
   "execution_count": 22,
   "metadata": {},
   "outputs": [
    {
     "name": "stdout",
     "output_type": "stream",
     "text": [
      "Data directory\n",
      "['images', 'names.txt', 'labels_yolo_v1.1', 'train.txt', 'data.txt']\n"
     ]
    }
   ],
   "source": [
    "DATAPATH = \"/datasets/tdt4265/ad/NAPLab-LiDAR\"\n",
    "print(\"Data directory\")\n",
    "print(os.listdir(DATAPATH))\n"
   ]
  },
  {
   "cell_type": "code",
   "execution_count": 23,
   "metadata": {},
   "outputs": [
    {
     "name": "stdout",
     "output_type": "stream",
     "text": [
      "classes = 8\n",
      "train = data/train.txt\n",
      "names = names.txt\n",
      "\n",
      "\n"
     ]
    }
   ],
   "source": [
    "print(read_file(\"data.txt\"))"
   ]
  },
  {
   "cell_type": "code",
   "execution_count": 24,
   "metadata": {},
   "outputs": [
    {
     "name": "stdout",
     "output_type": "stream",
     "text": [
      "car\n",
      "truck\n",
      "bus\n",
      "motorcycle\n",
      "bicycle\n",
      "scooter\n",
      "person\n",
      "rider\n",
      "\n"
     ]
    }
   ],
   "source": [
    "print(read_file(\"names.txt\"))"
   ]
  },
  {
   "cell_type": "code",
   "execution_count": 31,
   "metadata": {},
   "outputs": [
    {
     "name": "stdout",
     "output_type": "stream",
     "text": [
      "                         0\n",
      "0  images/frame_000000.PNG\n",
      "1  images/frame_000001.PNG\n",
      "2  images/frame_000002.PNG\n",
      "3  images/frame_000003.PNG\n",
      "4  images/frame_000004.PNG\n"
     ]
    }
   ],
   "source": [
    "train = pd.read_csv(os.path.join(DATAPATH, \"train.txt\"), sep=\" \", header=None)\n",
    "\n",
    "print(train.head())\n",
    "train.describe()"
   ]
  }
 ],
 "metadata": {
  "kernelspec": {
   "display_name": "Python 3",
   "language": "python",
   "name": "python3"
  },
  "language_info": {
   "codemirror_mode": {
    "name": "ipython",
    "version": 3
   },
   "file_extension": ".py",
   "mimetype": "text/x-python",
   "name": "python",
   "nbconvert_exporter": "python",
   "pygments_lexer": "ipython3",
   "version": "3.10.12"
  }
 },
 "nbformat": 4,
 "nbformat_minor": 2
}
